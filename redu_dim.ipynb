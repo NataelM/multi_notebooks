{
 "cells": [
  {
   "cell_type": "markdown",
   "id": "ddab083a",
   "metadata": {},
   "source": [
    "un componente principal tienen un sentido geometrico \n",
    "se pueden hacer proyecciones de los datos en cualquier dimensión.\n",
    "\n",
    "una buena proyeccion es aquella que es ortogonal a los datos y esa captura la mayor varianza\n",
    "\n",
    "el proposito de hacer PCA es encontrar la mejor proyección en un subespacio donde conserve la mayor parte de la varianza\n",
    "X es el vector columna, x es el vector de caracteristicas (vector aleatorio)\n",
    "la varianza de la iesima entrada es el iesimo renglon de la matriz A por la matriz de varianzas y covatianzas\n",
    "\n",
    "y con la covarianza pasa algo similar, se tiene el iesimo renglon de a por la matriz de varianzas y covarianzas por el renglón j \n",
    "y lo que tenemos que hacer es encontrar las varianzas y covarianzas maximas (maximizar)\n",
    "# una componente principal \n",
    "\n",
    "es aquella que maximixiza la varianza consiguiendo que la var(ai) es independiente de la var(aj)\n",
    "\n",
    "para maximizar la varianza normalizamos el vector y buscaremos encontrar la varianza igual a i\n",
    "matriz de cargas o loading matrix \n",
    "## biplot\n",
    "es la proyección sobre un sub-espacio\n",
    "Al proyectar los canonicos en los componentes proncipales, resultan dar angulos oblicuos y los angulos formados son algo parecido a la correlacion de los datos originales\n",
    "gamma son los vectoresz propios\n",
    "conservar todas las columnas de los componentes principales, \"endereza\" los datos"
   ]
  },
  {
   "cell_type": "code",
   "execution_count": null,
   "id": "2049e5a3-b3a8-4419-a7ca-35b0b15d9ffd",
   "metadata": {},
   "outputs": [],
   "source": []
  }
 ],
 "metadata": {
  "kernelspec": {
   "display_name": "Python 3",
   "language": "python",
   "name": "python3"
  },
  "language_info": {
   "codemirror_mode": {
    "name": "ipython",
    "version": 3
   },
   "file_extension": ".py",
   "mimetype": "text/x-python",
   "name": "python",
   "nbconvert_exporter": "python",
   "pygments_lexer": "ipython3",
   "version": "3.8.13"
  }
 },
 "nbformat": 4,
 "nbformat_minor": 5
}
