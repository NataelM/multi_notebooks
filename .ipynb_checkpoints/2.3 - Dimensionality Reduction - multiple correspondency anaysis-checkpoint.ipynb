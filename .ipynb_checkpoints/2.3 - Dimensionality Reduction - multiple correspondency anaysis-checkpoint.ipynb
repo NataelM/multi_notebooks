{
 "cells": [
  {
   "cell_type": "markdown",
   "metadata": {},
   "source": [
    "# 2.3 Multiple Correspondency Analysis\n",
    "\n",
    "---\n",
    "> Erick Eduardo Aguilar Hernández:\n",
    "> * mat.ErickAguilar@ciencias.unam.mx\n",
    "> * isc.ErickAguilar@gmail.com"
   ]
  },
  {
   "cell_type": "markdown",
   "metadata": {},
   "source": [
    "### Encoding categorical data\n",
    "____\n",
    "\n",
    "This technique creates a map of the associations among categories of two or more categorical variables, this dimensionality reduction concerned the interrelationships amongst the variables. The goal is convert the numerical information from a contingency table into a two-dimensional graphical display.\n",
    "\n",
    "Lets suppose we have a categorical dataset with n obervations and $C$ categoricals columns with $J_i$ possible values for each column $C_i$, then the indicator matrix $\\textbf{X}$ have n rows with the sum of all possible $J_i$ the entrie $[\\mathbf{X}]_{i,j}=1$ if the category of the j-th variable possessed by the i-th individual and 0 in other case, this encoding is well know as one hot encoding. **Example**:\n",
    "\n",
    "$$\n",
    "Dataset = \n",
    "\\left[ \\begin{array}{ccccc}\n",
    "\\textbf{Sex}  & \\textbf{Smoke}  \\\\\n",
    "\\text{Male}  & \\text{Yes}  \\\\\n",
    "\\text{Male}  & \\text{No}  \\\\\n",
    "\\text{Male}  & \\text{Yes}  \\\\\n",
    "\\text{Female}  & \\text{No}  \\\\\n",
    "\\text{Female}  & \\text{Yes}  \\\\\n",
    "\\text{Female}  & \\text{No}  \\\\\n",
    "\\end{array} \\right]\n",
    "\\quad\n",
    "\\mathbf{X} = \n",
    "\\left[ \\begin{array}{ccccc}\n",
    "\\textbf{Sex_Male} & \\textbf{Sex_Female} & \\textbf{Smoke_Yes} & \\textbf{Smoke_No}\\\\\n",
    "1 & 0 & 1 & 0 \\\\\n",
    "1 & 0 & 0 & 1 \\\\\n",
    "1 & 0 & 1 & 0 \\\\\n",
    "0 & 1 & 0 & 1 \\\\\n",
    "0 & 1 & 1 & 0 \\\\\n",
    "0 & 1 & 0 & 1 \\\\\n",
    "\\end{array} \\right]\n",
    "$$\n",
    "\n",
    "The Burt matrix is the matrix that contains the crossed counts of all categories:\n",
    "\n",
    "$$\\mathbf{B} = \\mathbf{X'X}$$\n",
    "\n",
    "For the last example:\n",
    "\n",
    "$$\n",
    "\\mathbf{B} = \\mathbf{X'X} =\n",
    "\\left[ \\begin{array}{ccccc}\n",
    "& \\textbf{Sex_Male} & \\textbf{Sex_Female} & \\textbf{Smoke_Yes} & \\textbf{Smoke_No}\\\\\n",
    "\\textbf{Sex_Male} & 3 & 0 & 2 & 1\\\\\n",
    "\\textbf{Sex_Female} & 0 & 3 & 1 & 2\\\\\n",
    "\\textbf{Smoke_Yes} & 2 & 1 & 3 & 0\\\\\n",
    "\\textbf{Smoke_Nes} & 1 & 2 & 0 & 3\\\\\n",
    "\\end{array} \\right]\n",
    "$$\n",
    "\n",
    "The Burt matrix is semipositive define so it coud be factorized as \n",
    "\n",
    "$$\\mathbf{B}=\\mathbf{\\Gamma \\Lambda \\Gamma'} \\implies \\mathbf{X}=\\mathbf{U D \\Gamma'}$$"
   ]
  },
  {
   "cell_type": "code",
   "execution_count": null,
   "metadata": {},
   "outputs": [],
   "source": [
    "%matplotlib inline\n",
    "import pandas as pd\n",
    "import numpy as np\n",
    "import prince as pr\n",
    "from matplotlib import pyplot as plt\n",
    "from sklearn.preprocessing import OneHotEncoder\n",
    "pd.set_option('max_colwidth',100)\n",
    "plt.style.use('seaborn')"
   ]
  },
  {
   "cell_type": "code",
   "execution_count": null,
   "metadata": {},
   "outputs": [],
   "source": [
    "run MvaUtils.py"
   ]
  },
  {
   "cell_type": "code",
   "execution_count": null,
   "metadata": {},
   "outputs": [],
   "source": [
    "categoricals = ['sex_numeric','embarked_numeric','cabin_numeric']\n",
    "#categoricals = ['sex_numeric','cabin_numeric','companions']\n",
    "titanic_df = pd.read_csv('DataSets/TitanicCleaned.csv').dropna()\n",
    "titanic_df['companions'] = titanic_df['sibsp']+titanic_df['parch']\n",
    "titanic_df['companions'] = titanic_df['companions'].apply(lambda row: 4 if row>=4 else row)\n",
    "titanic_df['cabin_numeric'] = titanic_df['cabin_numeric'].apply(lambda row: 7 if row>=7 else row)\n",
    "for col in categoricals:\n",
    "    titanic_df[col] = titanic_df[col].apply(lambda row: str(row).replace('.0',''))\n",
    "titanic_df[categoricals+['target']]"
   ]
  },
  {
   "cell_type": "code",
   "execution_count": null,
   "metadata": {},
   "outputs": [],
   "source": [
    "ohe = OneHotEncoder(sparse=False).fit(titanic_df[categoricals])\n",
    "ohe_col_names = ohe.get_feature_names(categoricals)\n",
    "X_df = pd.DataFrame(ohe.transform(titanic_df[categoricals]),columns=ohe_col_names)\n",
    "X_df"
   ]
  },
  {
   "cell_type": "code",
   "execution_count": null,
   "metadata": {},
   "outputs": [],
   "source": [
    "mca_df"
   ]
  },
  {
   "cell_type": "code",
   "execution_count": null,
   "metadata": {
    "scrolled": false
   },
   "outputs": [],
   "source": [
    "X = X_df\n",
    "n_components = 4\n",
    "mca_cols = ['mca_'+str(i+1) for i in range(0,n_components)]\n",
    "mca_model = pr.MCA(n_components=n_components,\n",
    "                   n_iter=10,\n",
    "                   copy=True,\n",
    "                   check_input=True,\n",
    "                   engine='auto',\n",
    "                   random_state=42).fit(X)\n",
    "\n",
    "columns_profiles_df = mca_model.column_coordinates(X).reset_index()\n",
    "columns_profiles_df.columns = ['category']+mca_cols\n",
    "display(columns_profiles_df)\n",
    "plt.figure(figsize=(12,12))\n",
    "scatterPlot(plt,columns_profiles_df,'mca_1','mca_2',label='category')\n",
    "\n",
    "mca_df = mca_model.row_coordinates(X)\n",
    "mca_df.columns = mca_cols\n",
    "mca_df['target'] = titanic_df['target']"
   ]
  },
  {
   "cell_type": "code",
   "execution_count": null,
   "metadata": {
    "scrolled": false
   },
   "outputs": [],
   "source": [
    "smp = sns.pairplot(mca_df[['mca_1','mca_2','mca_3','mca_4','target']].head(500),hue=\"target\",diag_kind='hist',palette=\"plasma\",height=5)\n",
    "mca_df"
   ]
  },
  {
   "cell_type": "code",
   "execution_count": null,
   "metadata": {},
   "outputs": [],
   "source": [
    "religion_dict={0:'Catholic',1:'Other Christian',2:'Muslim',3:'Buddhist',4:'Hindu',5:'Ethnic',6:'Marxist',7:'Others'}\n",
    "\n",
    "encoded = ['bars','stripes','red','green','blue','gold','white','black','orange','circles','crosses','saltires','quarters','sunstars','crescent','triangle','icon','animate','text']\n",
    "flags_df = pd.read_csv('DataSets/Flags.csv',delimiter=\",\")\n",
    "flags_df = flags_df.set_index('country')\n",
    "flags_df['religion'] = flags_df['religion'].apply(lambda row: religion_dict[row])\n",
    "flags_df['religion'] = np.where(flags_df['religion'].isin(['Other Christian','Catholic']),'Roman',flags_df['religion'])\n",
    "\n",
    "flags_df = flags_df[flags_df['religion'].isin(['Muslim','Roman'])]\n",
    "for col in encoded:\n",
    "    flags_df[col] = flags_df[col].apply(lambda row: 1 if row >=1 else 0)\n",
    "flags_df[encoded]"
   ]
  },
  {
   "cell_type": "code",
   "execution_count": null,
   "metadata": {
    "scrolled": false
   },
   "outputs": [],
   "source": [
    "X = flags_df[encoded]\n",
    "n_components = 4\n",
    "mca_cols = ['mca_'+str(i+1) for i in range(0,n_components)]\n",
    "mca_model = pr.MCA(n_components=n_components,\n",
    "                   n_iter=10,\n",
    "                   copy=True,\n",
    "                   check_input=True,\n",
    "                   engine='auto',\n",
    "                   random_state=42).fit(X)\n",
    "\n",
    "columns_profiles_df = mca_model.column_coordinates(X).reset_index()\n",
    "columns_profiles_df.columns = ['category']+mca_cols\n",
    "display(columns_profiles_df)\n",
    "plt.figure(figsize=(10,10))\n",
    "scatterPlot(plt,columns_profiles_df,'mca_1','mca_2',label='category')\n",
    "\n",
    "mca_df = mca_model.row_coordinates(X)\n",
    "mca_df.columns = mca_cols\n",
    "mca_df['religion'] = flags_df['religion']\n",
    "smp = sns.pairplot(mca_df,hue=\"religion\",diag_kind='hist',palette=\"plasma\",height=5)\n",
    "mca_df"
   ]
  },
  {
   "cell_type": "code",
   "execution_count": null,
   "metadata": {},
   "outputs": [],
   "source": []
  },
  {
   "cell_type": "code",
   "execution_count": null,
   "metadata": {},
   "outputs": [],
   "source": []
  }
 ],
 "metadata": {
  "kernelspec": {
   "display_name": "Python 3",
   "language": "python",
   "name": "python3"
  },
  "language_info": {
   "codemirror_mode": {
    "name": "ipython",
    "version": 3
   },
   "file_extension": ".py",
   "mimetype": "text/x-python",
   "name": "python",
   "nbconvert_exporter": "python",
   "pygments_lexer": "ipython3",
   "version": "3.6.13"
  }
 },
 "nbformat": 4,
 "nbformat_minor": 2
}
