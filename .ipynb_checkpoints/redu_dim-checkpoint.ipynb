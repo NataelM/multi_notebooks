{
 "cells": [
  {
   "cell_type": "markdown",
   "id": "d3079bb0-5c5b-488a-927a-15dde2e96838",
   "metadata": {},
   "source": [
    "un componente principal tienen un sentido geometrico "
   ]
  },
  {
   "cell_type": "markdown",
   "id": "efd0bccb-5916-4e7b-afc1-6a11d448b498",
   "metadata": {},
   "source": [
    "se pueden hacer proyecciones de los datos en cualquier dimensión.\n",
    "\n",
    "una buena proyeccion es aquella que es ortogonal a los datos y esa captura la mayor varianza\n",
    "\n",
    "el proposito de hacer PCA es encontrar la mejor proyección en un subespacio donde conserve la mayor parte de la varianza"
   ]
  },
  {
   "cell_type": "markdown",
   "id": "15415583-ff35-40bc-8734-556dbf7fb15e",
   "metadata": {},
   "source": [
    "X es el vector columna, x es el vector de caracteristicas (vector aleatorio)"
   ]
  },
  {
   "cell_type": "markdown",
   "id": "18f93c77-9483-4a1c-b540-1b4a85b683c2",
   "metadata": {},
   "source": [
    "la varianza de la iesima entrada es el iesimo renglon de la matriz A por la matriz de varianzas y covatianzas\n",
    "\n",
    "y con la covarianza pasa algo similar, se tiene el iesimo renglon de a por la matriz de varianzas y covarianzas por el renglón j "
   ]
  },
  {
   "cell_type": "markdown",
   "id": "e0471ae7-4559-4359-a05e-e043fd7dfc69",
   "metadata": {},
   "source": [
    "y lo que tenemos que hacer es encontrar las varianzas y covarianzas maximas (maximizar)"
   ]
  },
  {
   "cell_type": "markdown",
   "id": "60304957-e58d-4ff9-86df-0aa0d52d5c73",
   "metadata": {},
   "source": [
    "# una componente principal \n",
    "\n",
    "es aquella que maximixiza la varianza consiguiendo que la var(ai) es independiente de la var(aj)\n",
    "\n",
    "para maximizar la varianza normalizamos el vector y buscaremos encontrar la varianza igual a i"
   ]
  },
  {
   "cell_type": "markdown",
   "id": "e0bf2ffa-ad44-4be3-a973-c593dbfdb32a",
   "metadata": {},
   "source": [
    "matriz de cargas o loading matrix "
   ]
  },
  {
   "cell_type": "markdown",
   "id": "7eb677ae-608d-4868-ab29-fe7f59cf8818",
   "metadata": {},
   "source": [
    "## biplot"
   ]
  },
  {
   "cell_type": "markdown",
   "id": "f99fd976-67bb-487c-b066-143fa0ca46a2",
   "metadata": {},
   "source": [
    "es la proyección sobre un sub-espacio"
   ]
  },
  {
   "cell_type": "markdown",
   "id": "c135deef-f7a1-4c75-9276-9e680a95e6d7",
   "metadata": {},
   "source": [
    "Al proyectar los canonicos en los componentes proncipales, resultan dar angulos oblicuos y los angulos formados son algo parecido a la correlacion de los datos originales"
   ]
  },
  {
   "cell_type": "markdown",
   "id": "2821311c-a4c5-4994-a9b7-da75ea5882a7",
   "metadata": {},
   "source": [
    "gamma son los vectoresz propios"
   ]
  },
  {
   "cell_type": "markdown",
   "id": "7b9c109a-eaf6-4446-ba76-cd9e66f7ff22",
   "metadata": {},
   "source": [
    "conservar todas las columnas de los componentes principales, \"endereza\" los datos"
   ]
  },
  {
   "cell_type": "code",
   "execution_count": null,
   "id": "2049e5a3-b3a8-4419-a7ca-35b0b15d9ffd",
   "metadata": {},
   "outputs": [],
   "source": []
  }
 ],
 "metadata": {
  "kernelspec": {
   "display_name": "Python 3",
   "language": "python",
   "name": "python3"
  },
  "language_info": {
   "codemirror_mode": {
    "name": "ipython",
    "version": 3
   },
   "file_extension": ".py",
   "mimetype": "text/x-python",
   "name": "python",
   "nbconvert_exporter": "python",
   "pygments_lexer": "ipython3",
   "version": "3.8.13"
  }
 },
 "nbformat": 4,
 "nbformat_minor": 5
}
